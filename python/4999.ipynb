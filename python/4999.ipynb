{
 "cells": [
  {
   "cell_type": "code",
   "execution_count": 3,
   "metadata": {},
   "outputs": [
    {
     "name": "stdout",
     "output_type": "stream",
     "text": [
      "go\n"
     ]
    }
   ],
   "source": [
    "input_str = \"\"\"aaah\n",
    "aah\"\"\"\n",
    "lines = input_str.splitlines()\n",
    "##################예상 input#######################\n",
    "# 아래 lines.pop(0) ==> sys.stdin.readline().rstrip()\n",
    "###################################################\n",
    "import sys\n",
    "\n",
    "able = lines.pop(0)\n",
    "ask = lines.pop(0)\n",
    "if able.find(ask) >= 0:\n",
    "    print('go')\n",
    "else:\n",
    "    print('no')\n"
   ]
  }
 ],
 "metadata": {
  "kernelspec": {
   "display_name": "Python 3",
   "language": "python",
   "name": "python3"
  },
  "language_info": {
   "codemirror_mode": {
    "name": "ipython",
    "version": 3
   },
   "file_extension": ".py",
   "mimetype": "text/x-python",
   "name": "python",
   "nbconvert_exporter": "python",
   "pygments_lexer": "ipython3",
   "version": "3.9.13"
  },
  "orig_nbformat": 4,
  "vscode": {
   "interpreter": {
    "hash": "19bbaa17aaad8524ce9adc9eae37b3db085ea561884ef46a686ec198f374fe48"
   }
  }
 },
 "nbformat": 4,
 "nbformat_minor": 2
}
