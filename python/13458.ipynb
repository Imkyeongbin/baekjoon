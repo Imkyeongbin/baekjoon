{
 "cells": [
  {
   "cell_type": "code",
   "execution_count": 13,
   "metadata": {},
   "outputs": [
    {
     "data": {
      "text/plain": [
       "7"
      ]
     },
     "execution_count": 13,
     "metadata": {},
     "output_type": "execute_result"
    }
   ],
   "source": [
    "input_str = \"\"\"3\n",
    "3 4 5\n",
    "2 2\"\"\"\n",
    "lines = input_str.splitlines()\n",
    "##################예상 input#######################\n",
    "# 아래 lines.pop(0) ==> input()\n",
    "###################################################\n",
    "\n",
    "import math\n",
    "rooms = map(int, lines.pop(0))\n",
    "roomList = list(map(int, lines.pop(0).split()))\n",
    "primary, sub = map(int, lines.pop(0).split())\n",
    "sum = 0\n",
    "for i in roomList:\n",
    "    i -= primary\n",
    "    sum += 1\n",
    "    if i < 1:\n",
    "        continue\n",
    "    sum += math.ceil(i / sub) \n",
    "print(sum)\n"
   ]
  }
 ],
 "metadata": {
  "kernelspec": {
   "display_name": "Python 3",
   "language": "python",
   "name": "python3"
  },
  "language_info": {
   "codemirror_mode": {
    "name": "ipython",
    "version": 3
   },
   "file_extension": ".py",
   "mimetype": "text/x-python",
   "name": "python",
   "nbconvert_exporter": "python",
   "pygments_lexer": "ipython3",
   "version": "3.9.13"
  },
  "orig_nbformat": 4,
  "vscode": {
   "interpreter": {
    "hash": "19bbaa17aaad8524ce9adc9eae37b3db085ea561884ef46a686ec198f374fe48"
   }
  }
 },
 "nbformat": 4,
 "nbformat_minor": 2
}
