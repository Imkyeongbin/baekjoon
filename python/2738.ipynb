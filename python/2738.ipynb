{
 "cells": [
  {
   "cell_type": "code",
   "execution_count": 26,
   "metadata": {},
   "outputs": [
    {
     "name": "stdout",
     "output_type": "stream",
     "text": [
      "4 4 4\n",
      "6 6 6\n",
      "5 6 100\n"
     ]
    }
   ],
   "source": [
    "input_str = \"\"\"3 3\n",
    "1 1 1\n",
    "2 2 2\n",
    "0 1 0\n",
    "3 3 3\n",
    "4 4 4\n",
    "5 5 100\"\"\"\n",
    "lines = input_str.splitlines()\n",
    "##################예상 input#######################\n",
    "# 아래 lines.pop(0) ==> sys.stdin.readline().rstrip()\n",
    "###################################################\n",
    "import sys\n",
    "\n",
    "n, m = map(int, lines.pop(0).split())\n",
    "# print(n, m)\n",
    "matrix1 = []\n",
    "matrix2 = []\n",
    "for _ in range(n):\n",
    "    matrix1.append(list(map(int, lines.pop(0).split())))\n",
    "for _ in range(n):\n",
    "    matrix2.append(list(map(int, lines.pop(0).split())))\n",
    "\n",
    "matrix_sum = []\n",
    "for i in range(n):\n",
    "    sum = []\n",
    "    for j in range(m):\n",
    "        sum.append(matrix1[i][j] + matrix2[i][j])\n",
    "    matrix_sum.append(sum)\n",
    "while(len(matrix_sum) > 0):\n",
    "    print(' '.join(map(str, matrix_sum.pop(0))))"
   ]
  }
 ],
 "metadata": {
  "kernelspec": {
   "display_name": "Python 3",
   "language": "python",
   "name": "python3"
  },
  "language_info": {
   "codemirror_mode": {
    "name": "ipython",
    "version": 3
   },
   "file_extension": ".py",
   "mimetype": "text/x-python",
   "name": "python",
   "nbconvert_exporter": "python",
   "pygments_lexer": "ipython3",
   "version": "3.9.13"
  },
  "orig_nbformat": 4,
  "vscode": {
   "interpreter": {
    "hash": "19bbaa17aaad8524ce9adc9eae37b3db085ea561884ef46a686ec198f374fe48"
   }
  }
 },
 "nbformat": 4,
 "nbformat_minor": 2
}
