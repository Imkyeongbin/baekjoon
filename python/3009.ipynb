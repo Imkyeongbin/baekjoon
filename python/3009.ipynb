{
 "cells": [
  {
   "cell_type": "code",
   "execution_count": 4,
   "metadata": {},
   "outputs": [
    {
     "name": "stdout",
     "output_type": "stream",
     "text": [
      "30 10\n"
     ]
    }
   ],
   "source": [
    "input_str = \"\"\"30 20\n",
    "10 10\n",
    "10 20\"\"\"\n",
    "lines = input_str.splitlines()\n",
    "##################예상 input#######################\n",
    "# 아래 lines.pop(0) ==> input()\n",
    "###################################################\n",
    "\n",
    "x, y = map(int, lines.pop(0).split())\n",
    "xs = [x]\n",
    "ys = [y]\n",
    "x, y = map(int, lines.pop(0).split())\n",
    "xs.append(x)\n",
    "ys.append(y)\n",
    "x, y = map(int, lines.pop(0).split())\n",
    "try:\n",
    "    xs.remove(x)\n",
    "except:\n",
    "    answer_x = x\n",
    "else:\n",
    "    answer_x = xs[0]\n",
    "try:\n",
    "    ys.remove(y)\n",
    "except:\n",
    "    answer_y = y\n",
    "else:\n",
    "    answer_y = ys[0]\n",
    "print(answer_x, answer_y)"
   ]
  }
 ],
 "metadata": {
  "kernelspec": {
   "display_name": "Python 3",
   "language": "python",
   "name": "python3"
  },
  "language_info": {
   "codemirror_mode": {
    "name": "ipython",
    "version": 3
   },
   "file_extension": ".py",
   "mimetype": "text/x-python",
   "name": "python",
   "nbconvert_exporter": "python",
   "pygments_lexer": "ipython3",
   "version": "3.9.13"
  },
  "orig_nbformat": 4,
  "vscode": {
   "interpreter": {
    "hash": "19bbaa17aaad8524ce9adc9eae37b3db085ea561884ef46a686ec198f374fe48"
   }
  }
 },
 "nbformat": 4,
 "nbformat_minor": 2
}
