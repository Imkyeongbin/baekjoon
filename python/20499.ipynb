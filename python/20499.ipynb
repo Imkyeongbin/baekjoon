{
 "cells": [
  {
   "cell_type": "code",
   "execution_count": 1,
   "metadata": {},
   "outputs": [
    {
     "name": "stdout",
     "output_type": "stream",
     "text": [
      "hasu\n"
     ]
    }
   ],
   "source": [
    "input_str = \"\"\"0/5/3\"\"\"\n",
    "lines = input_str.splitlines()\n",
    "##################예상 input#######################\n",
    "# 아래 lines.pop(0) ==> sys.stdin.readline().rstrip()\n",
    "###################################################\n",
    "import sys\n",
    "\n",
    "k, d, a = map(int, lines.pop(0).split('/'))\n",
    "\n",
    "if (k + a ) < d or d == 0:\n",
    "    print('hasu')\n",
    "else:\n",
    "    print('gosu')"
   ]
  },
  {
   "cell_type": "code",
   "execution_count": 2,
   "metadata": {},
   "outputs": [
    {
     "data": {
      "text/plain": [
       "'3 3'"
      ]
     },
     "execution_count": 2,
     "metadata": {},
     "output_type": "execute_result"
    }
   ],
   "source": [
    "input()"
   ]
  }
 ],
 "metadata": {
  "kernelspec": {
   "display_name": "Python 3",
   "language": "python",
   "name": "python3"
  },
  "language_info": {
   "codemirror_mode": {
    "name": "ipython",
    "version": 3
   },
   "file_extension": ".py",
   "mimetype": "text/x-python",
   "name": "python",
   "nbconvert_exporter": "python",
   "pygments_lexer": "ipython3",
   "version": "3.9.13"
  },
  "orig_nbformat": 4,
  "vscode": {
   "interpreter": {
    "hash": "19bbaa17aaad8524ce9adc9eae37b3db085ea561884ef46a686ec198f374fe48"
   }
  }
 },
 "nbformat": 4,
 "nbformat_minor": 2
}
