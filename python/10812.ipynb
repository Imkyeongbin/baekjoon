{
 "cells": [
  {
   "cell_type": "code",
   "execution_count": 14,
   "metadata": {},
   "outputs": [
    {
     "name": "stdout",
     "output_type": "stream",
     "text": [
      "1 4 6 2 3 7 10 5 8 9\n"
     ]
    }
   ],
   "source": [
    "input_str = \"\"\"10 5\n",
    "1 6 4\n",
    "3 9 8\n",
    "2 10 5\n",
    "1 3 3\n",
    "2 6 2\"\"\"\n",
    "lines = input_str.splitlines()\n",
    "##################예상 input#######################\n",
    "# 아래 lines.pop(0) ==> sys.stdin.readline().rstrip()\n",
    "###################################################\n",
    "import sys\n",
    "\n",
    "N, M = map(int, lines.pop(0).split())\n",
    "\n",
    "li = list(map(str, range(1, N+1)))\n",
    "for _ in range(M):\n",
    "    i,j,k = map(int, lines.pop(0).split())\n",
    "    li[i-1:j] = li[k-1: j] + li[i-1:k-1]\n",
    "print(*li)"
   ]
  },
  {
   "cell_type": "code",
   "execution_count": 8,
   "metadata": {},
   "outputs": [
    {
     "data": {
      "text/plain": [
       "[0, 1, 4, 5, 6, 7, 2, 3, 6, 7]"
      ]
     },
     "execution_count": 8,
     "metadata": {},
     "output_type": "execute_result"
    }
   ],
   "source": [
    "li = list(range(8))\n",
    "newli = li[4:10]\n",
    "newli.extend(li[2:4])\n",
    "li[2:6] = newli\n",
    "li"
   ]
  },
  {
   "cell_type": "code",
   "execution_count": 5,
   "metadata": {},
   "outputs": [
    {
     "data": {
      "text/plain": [
       "[0, 1, 4, 5, 2, 3, 6, 7]"
      ]
     },
     "execution_count": 5,
     "metadata": {},
     "output_type": "execute_result"
    }
   ],
   "source": [
    "li = list(range(8))\n",
    "li[2:6] = li[4:6] + li[2:4]\n",
    "li"
   ]
  }
 ],
 "metadata": {
  "kernelspec": {
   "display_name": "Python 3",
   "language": "python",
   "name": "python3"
  },
  "language_info": {
   "codemirror_mode": {
    "name": "ipython",
    "version": 3
   },
   "file_extension": ".py",
   "mimetype": "text/x-python",
   "name": "python",
   "nbconvert_exporter": "python",
   "pygments_lexer": "ipython3",
   "version": "3.9.13"
  },
  "orig_nbformat": 4,
  "vscode": {
   "interpreter": {
    "hash": "19bbaa17aaad8524ce9adc9eae37b3db085ea561884ef46a686ec198f374fe48"
   }
  }
 },
 "nbformat": 4,
 "nbformat_minor": 2
}
