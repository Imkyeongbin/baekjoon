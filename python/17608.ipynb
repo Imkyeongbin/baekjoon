{
 "cells": [
  {
   "cell_type": "code",
   "execution_count": 1,
   "metadata": {},
   "outputs": [],
   "source": [
    "input_str = \"\"\"6\n",
    "8\n",
    "9\n",
    "7\n",
    "6\n",
    "4\n",
    "6\"\"\"\n",
    "lines = input_str.splitlines()\n",
    "##################예상 input#######################\n",
    "# 아래 lines.pop(0) ==> sys.stdin.readline().rstrip()\n",
    "###################################################\n",
    "import sys\n",
    "\n",
    "n = int(lines.pop(0))\n",
    "nums = []\n",
    "max = 0\n",
    "for i in range(n):\n",
    "    val = int(lines.pop(0))\n",
    "    if max <= val:\n",
    "        max = val\n",
    "        nums = [val]\n",
    "    else:\n",
    "        compare = nums.pop()\n",
    "        while compare <= val:\n",
    "            compare = nums.pop()\n",
    "        nums.append(compare)\n",
    "        nums.append(val)\n",
    "\n",
    "\n",
    "print(len(nums))"
   ]
  }
 ],
 "metadata": {
  "kernelspec": {
   "display_name": "Python 3",
   "language": "python",
   "name": "python3"
  },
  "language_info": {
   "codemirror_mode": {
    "name": "ipython",
    "version": 3
   },
   "file_extension": ".py",
   "mimetype": "text/x-python",
   "name": "python",
   "nbconvert_exporter": "python",
   "pygments_lexer": "ipython3",
   "version": "3.9.13"
  },
  "orig_nbformat": 4,
  "vscode": {
   "interpreter": {
    "hash": "19bbaa17aaad8524ce9adc9eae37b3db085ea561884ef46a686ec198f374fe48"
   }
  }
 },
 "nbformat": 4,
 "nbformat_minor": 2
}
